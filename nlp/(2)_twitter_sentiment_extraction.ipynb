{
 "cells": [
  {
   "cell_type": "code",
   "execution_count": 1,
   "metadata": {},
   "outputs": [],
   "source": [
    "import os\n",
    "import tweepy as tw\n",
    "import pandas as pd\n",
    "from textblob import TextBlob"
   ]
  },
  {
   "cell_type": "code",
   "execution_count": 2,
   "metadata": {},
   "outputs": [],
   "source": [
    "# Go to http://apps.twitter.com and create an app.\n",
    "# The consumer key and secret will be generated for you after\n",
    "consumer_key=\"rlCkqsZTQVtPbn1eNcp8W4nRB\"\n",
    "consumer_secret=\"Ek4XgMEjz4yVxYnwtM2a2J1yodMjXY5mwcRJJnJDvcGh3FODqC\"\n",
    "\n",
    "# After the step above, you will be redirected to your app's page.\n",
    "# Create an access token under the the \"Your access token\" section\n",
    "access_token=\"122083690-XdJNW0LsR9TzZEGjAojvCqYW3LgZS2ZNZyH1mgWU\"\n",
    "access_token_secret=\"moCTCORNupEB16iJqTXScJmUGjbPmJHNfh7FBuXsvtHRA\""
   ]
  },
  {
   "cell_type": "code",
   "execution_count": 3,
   "metadata": {},
   "outputs": [],
   "source": [
    "auth = tw.OAuthHandler(consumer_key, consumer_secret)\n",
    "auth.set_access_token(access_token, access_token_secret)\n",
    "api = tw.API(auth, wait_on_rate_limit=True)"
   ]
  },
  {
   "cell_type": "code",
   "execution_count": 4,
   "metadata": {},
   "outputs": [],
   "source": [
    "place = api.geo_search(query=\"MN\", granularity=\"admin\")\n",
    "place_id = place[0].id"
   ]
  },
  {
   "cell_type": "code",
   "execution_count": 5,
   "metadata": {},
   "outputs": [],
   "source": [
    "dict_topic = {\"Social Security\":[\"social security\",\"socialsecuritylaws\",\"social security laws\",\"socialsecurityissues\",\"social security issues\",\"socialsecuritypolicy\",\"social security policy\",\"retirement\",\"retirementpolicy\",\"retirement policy\",\"senior citizen\",\"senior citizen laws\",\"seniorcitizenlaws\",\"employee benefits\",\"retirement plan\",\"tax exemption\",\"taxexemption\"],\n",
    "              \"Immigration\":[\"immigration\",\"immigration laws\",\"immigrationlaws\",\"immigration policy\",\"immigrationpolicy\",\"national immigration\",\"immigrant\",\"immigration new\",\"mexican immigration\",\"for immigration\",\"forimmigration\",\"against immigration\",\"againstimmigration\",\"anti-immigration\",\"illegal mexican\",\"immigrations\",\"legal immigration\",\"legalimmigration\",\"against immigration\",\"immigrants rights\",\"immigrantsrights\",\"american immigration\",\"us immigration law\",\"usimmigrationlaw\",\"immigration mexico\",\"immigration policies\",\"immigration studies\",\"immigrant population\",\"center for immigration\",\"immigrant rights\",\"immigrant workers\",\"mexican immigrants\",\"immigration requirements\",\"immigrant statistics\",\"immigration history\",\"immigration coalition\",\"immigration illegal\",\"immigration quotas\",\"immigration control\",\"immigration statistics\",\"immigration problems\",\"refugee rights\",\"immigration and nationality\",\"illegal mexicans\",\"us immigration\",\"pro immigration\",\"undocumented workers\",\"immigration policy\",\"recent immigration\",\"immigration green card\",\"immigration issues\",\"mexico immigration\",\"american immigration reform\",\"current immigration\",\"immigration numbers\",\"us immigration laws\",\"immigration rights\",\"u.s. immigration\",\"louvre museum\",\"immigrants\",\"border control\",\"u.s immigration\",\"us immigrant\",\"immigration us\",\"immigration reform and control act\",\"immigration legal\",\"national immigration forum\",\"new immigrant\",\"visas\",\"green cards\",\"illegal mexican immigrants\",\"mexifornia\",\"america immigration\",\"immigration law center\",\"border security\",\"fair immigration\",\"federation for american immigration reform\",\"nationality act\",\"visa immigration\",\"immigration rules\",\"immigration and nationality act\",\"hispanic immigration\",\"immigration in america\",\"illegal immigration\",\"migration policy\",\"new immigration laws\",\"immigrant worker\",\"american border\",\"us immigrants\",\"immigrant labor\",\"immigration act\"],\n",
    "              \"Medicare\":[\"medicare insurance\",\"medicare part d plan\",\"medicare plans\",\"help with medicare\",\"medigap plan\",\"medicare advantage\",\"medicare.\",\"medicare supplement\",\"medicare help\",\"medicare part c\",\"medicare,gov\",\"medicare.gove\",\"medicare coverage\",\"medicare cost\",\"medicare advantage plans\",\"medicare enrollment\",\"cost of medicare\",\"people healthcare\",\"healthcare\",\"healthcare for people\",\"healthcareforpeople\",\"healthcare policy\",\"healthcarepolicy\",\"healthcare policies\",\"healthcare issues\",\"healthcareissue\",\"healthcare problems\",\"issues in healthcare\",\"government healthcare\"],\n",
    "              \"Crime\":[\"crime\",\"crime policy\",\"crimepolicy\",\"crime laws\",\"crimelaws\",\"crime issues\",\"crimeissues\",\"criminal\",\"criminal act\",\"criminallaws\",\"policelaws\",\"police laws\",\"criminal justice\"],\n",
    "              \"Unemployment\":[\"unemployment\",\"illeterate unemployment\",\"unemployment issues\",\"unemployment check\",\"unempploymentissues\",\"unemployment policy\",\"unemployment online\",\"unemploy\",\"unemployed\",\"unemployment laws\",\"unemploymentlaws\",\"justice for unemployment\"]\n",
    "             }"
   ]
  },
  {
   "cell_type": "code",
   "execution_count": 6,
   "metadata": {},
   "outputs": [],
   "source": [
    "only_tweets = []\n",
    "topic_list = []\n",
    "\n",
    "for key in dict_topic.keys():\n",
    "    keyword_list = dict_topic[key]\n",
    "\n",
    "    for word in keyword_list:\n",
    "        new_search = str(word) + \" -filter:retweets\" \n",
    "        tweets = tw.Cursor(api.search, \n",
    "                               q=new_search+ ' place:%s' % place_id,\n",
    "                               lang=\"en\",\n",
    "                               since=\"2019-11-08\").items(1000)\n",
    "        only_tweets.append(tweets)\n",
    "        topic_list.append(key)\n",
    "        "
   ]
  },
  {
   "cell_type": "code",
   "execution_count": 7,
   "metadata": {},
   "outputs": [
    {
     "data": {
      "text/plain": [
       "(162, 162)"
      ]
     },
     "execution_count": 7,
     "metadata": {},
     "output_type": "execute_result"
    }
   ],
   "source": [
    "len(only_tweets), len(topic_list)"
   ]
  },
  {
   "cell_type": "code",
   "execution_count": 8,
   "metadata": {},
   "outputs": [],
   "source": [
    "# Getting the tweets into an array which would be then be loaded to dataframe\n",
    "full_arr= []\n",
    "topic_arr = []\n",
    "i=0\n",
    "for items in only_tweets:\n",
    "    cur_topic = topic_list[i]\n",
    "    # print(cur_topic)\n",
    "    #print(items)\n",
    "    i = i+1\n",
    "    for tweet in items:\n",
    "        #print(tweet)\n",
    "        arr = [tweet.user.name, tweet.place.name,tweet.place.full_name, tweet.user.followers_count, tweet.created_at, tweet.retweet_count, tweet.text]\n",
    "        #print(arr)\n",
    "        full_arr.append(arr)\n",
    "        topic_arr.append(cur_topic)"
   ]
  },
  {
   "cell_type": "code",
   "execution_count": 9,
   "metadata": {},
   "outputs": [
    {
     "data": {
      "text/plain": [
       "(428, 428)"
      ]
     },
     "execution_count": 9,
     "metadata": {},
     "output_type": "execute_result"
    }
   ],
   "source": [
    "len(full_arr), len(topic_arr)"
   ]
  },
  {
   "cell_type": "code",
   "execution_count": 60,
   "metadata": {},
   "outputs": [],
   "source": [
    "final_dataframe = pd.DataFrame(full_arr,columns = ['user', \"place\",\"place_full_name\", \"follower count\", \"created at\",\"retweets\", \"text\"])\n",
    "final_dataframe['sentiment'] = round(final_dataframe.text.apply(lambda x: TextBlob(x).sentiment[0]),2)"
   ]
  },
  {
   "cell_type": "code",
   "execution_count": 61,
   "metadata": {},
   "outputs": [],
   "source": [
    "final_dataframe['topic'] = pd.Series(topic_arr)"
   ]
  },
  {
   "cell_type": "code",
   "execution_count": 62,
   "metadata": {},
   "outputs": [],
   "source": [
    "def sentiment_bucket(value):\n",
    "    sentiment = \"\"\n",
    "    if value > 0.02:\n",
    "        sentiment = \"Positive\"\n",
    "    elif value < -0.02:\n",
    "        sentiment = \"Negative\"\n",
    "    else:\n",
    "        sentiment = \"Neutral\"\n",
    "    return sentiment\n",
    "\n",
    "final_dataframe['SentimentBucket'] = final_dataframe['sentiment'].apply(sentiment_bucket)\n",
    "\n",
    "def influencer_level(count):\n",
    "    level = \"\"\n",
    "    if count > 1000000:\n",
    "        level = \"Key\"\n",
    "    elif count > 100000:\n",
    "        level = \"Big\"\n",
    "    elif count > 10000:\n",
    "        level = \"Medium\"\n",
    "    elif count > 5000:\n",
    "        level = \"Local\"\n",
    "    else:\n",
    "        level = \"Not\"\n",
    "    return level\n",
    "\n",
    "final_dataframe['influencerLevel'] = final_dataframe[\"follower count\"].apply(influencer_level)\n"
   ]
  },
  {
   "cell_type": "code",
   "execution_count": 63,
   "metadata": {},
   "outputs": [
    {
     "data": {
      "text/html": [
       "<div>\n",
       "<style scoped>\n",
       "    .dataframe tbody tr th:only-of-type {\n",
       "        vertical-align: middle;\n",
       "    }\n",
       "\n",
       "    .dataframe tbody tr th {\n",
       "        vertical-align: top;\n",
       "    }\n",
       "\n",
       "    .dataframe thead th {\n",
       "        text-align: right;\n",
       "    }\n",
       "</style>\n",
       "<table border=\"1\" class=\"dataframe\">\n",
       "  <thead>\n",
       "    <tr style=\"text-align: right;\">\n",
       "      <th></th>\n",
       "      <th>user</th>\n",
       "      <th>place</th>\n",
       "      <th>place_full_name</th>\n",
       "      <th>follower count</th>\n",
       "      <th>created at</th>\n",
       "      <th>retweets</th>\n",
       "      <th>text</th>\n",
       "      <th>sentiment</th>\n",
       "      <th>topic</th>\n",
       "      <th>SentimentBucket</th>\n",
       "      <th>influencerLevel</th>\n",
       "    </tr>\n",
       "  </thead>\n",
       "  <tbody>\n",
       "    <tr>\n",
       "      <th>0</th>\n",
       "      <td>Jean Mari Burrington</td>\n",
       "      <td>Minnesota</td>\n",
       "      <td>Minnesota, USA</td>\n",
       "      <td>39</td>\n",
       "      <td>2019-12-09 00:46:33</td>\n",
       "      <td>0</td>\n",
       "      <td>@BeltwayPanda @SenKamalaHarris @SpryGuy @FLOTU...</td>\n",
       "      <td>0.20</td>\n",
       "      <td>Immigration</td>\n",
       "      <td>Positive</td>\n",
       "      <td>Not</td>\n",
       "    </tr>\n",
       "    <tr>\n",
       "      <th>1</th>\n",
       "      <td>TMJ-MSP Legal Jobs</td>\n",
       "      <td>Minneapolis</td>\n",
       "      <td>Minneapolis, MN</td>\n",
       "      <td>327</td>\n",
       "      <td>2019-12-08 17:43:09</td>\n",
       "      <td>0</td>\n",
       "      <td>This #Legal job might be a great fit for you. ...</td>\n",
       "      <td>0.48</td>\n",
       "      <td>Immigration</td>\n",
       "      <td>Positive</td>\n",
       "      <td>Not</td>\n",
       "    </tr>\n",
       "    <tr>\n",
       "      <th>2</th>\n",
       "      <td>Stephen Philion</td>\n",
       "      <td>Maple Grove</td>\n",
       "      <td>Maple Grove, MN</td>\n",
       "      <td>145</td>\n",
       "      <td>2019-12-08 16:15:07</td>\n",
       "      <td>0</td>\n",
       "      <td>Mother of Army officer to be deported after re...</td>\n",
       "      <td>0.00</td>\n",
       "      <td>Immigration</td>\n",
       "      <td>Neutral</td>\n",
       "      <td>Not</td>\n",
       "    </tr>\n",
       "    <tr>\n",
       "      <th>3</th>\n",
       "      <td>🇺🇸USMC 0341 MAGA 🇺🇸🎖🇺🇸🇺🇸</td>\n",
       "      <td>Minnesota</td>\n",
       "      <td>Minnesota, USA</td>\n",
       "      <td>70115</td>\n",
       "      <td>2019-12-08 05:53:50</td>\n",
       "      <td>0</td>\n",
       "      <td>@JohnSmi37563557 Exactly.. anothe 9/11 would r...</td>\n",
       "      <td>0.12</td>\n",
       "      <td>Immigration</td>\n",
       "      <td>Positive</td>\n",
       "      <td>Medium</td>\n",
       "    </tr>\n",
       "    <tr>\n",
       "      <th>4</th>\n",
       "      <td>RH Legal Jobs</td>\n",
       "      <td>Minneapolis</td>\n",
       "      <td>Minneapolis, MN</td>\n",
       "      <td>155</td>\n",
       "      <td>2019-12-07 16:31:43</td>\n",
       "      <td>0</td>\n",
       "      <td>This job might be a great fit for you: IMMIGRA...</td>\n",
       "      <td>0.47</td>\n",
       "      <td>Immigration</td>\n",
       "      <td>Positive</td>\n",
       "      <td>Not</td>\n",
       "    </tr>\n",
       "  </tbody>\n",
       "</table>\n",
       "</div>"
      ],
      "text/plain": [
       "                       user        place  place_full_name  follower count  \\\n",
       "0      Jean Mari Burrington    Minnesota   Minnesota, USA              39   \n",
       "1        TMJ-MSP Legal Jobs  Minneapolis  Minneapolis, MN             327   \n",
       "2           Stephen Philion  Maple Grove  Maple Grove, MN             145   \n",
       "3  🇺🇸USMC 0341 MAGA 🇺🇸🎖🇺🇸🇺🇸    Minnesota   Minnesota, USA           70115   \n",
       "4             RH Legal Jobs  Minneapolis  Minneapolis, MN             155   \n",
       "\n",
       "           created at  retweets  \\\n",
       "0 2019-12-09 00:46:33         0   \n",
       "1 2019-12-08 17:43:09         0   \n",
       "2 2019-12-08 16:15:07         0   \n",
       "3 2019-12-08 05:53:50         0   \n",
       "4 2019-12-07 16:31:43         0   \n",
       "\n",
       "                                                text  sentiment        topic  \\\n",
       "0  @BeltwayPanda @SenKamalaHarris @SpryGuy @FLOTU...       0.20  Immigration   \n",
       "1  This #Legal job might be a great fit for you. ...       0.48  Immigration   \n",
       "2  Mother of Army officer to be deported after re...       0.00  Immigration   \n",
       "3  @JohnSmi37563557 Exactly.. anothe 9/11 would r...       0.12  Immigration   \n",
       "4  This job might be a great fit for you: IMMIGRA...       0.47  Immigration   \n",
       "\n",
       "  SentimentBucket influencerLevel  \n",
       "0        Positive             Not  \n",
       "1        Positive             Not  \n",
       "2         Neutral             Not  \n",
       "3        Positive          Medium  \n",
       "4        Positive             Not  "
      ]
     },
     "execution_count": 63,
     "metadata": {},
     "output_type": "execute_result"
    }
   ],
   "source": [
    "final_dataframe.head(5)"
   ]
  },
  {
   "cell_type": "code",
   "execution_count": 64,
   "metadata": {},
   "outputs": [
    {
     "data": {
      "text/plain": [
       "array(['Minnesota', 'Minneapolis', 'Maple Grove', 'St Paul', 'Hutchinson',\n",
       "       'Monticello', 'Hopkins', 'Plymouth', 'Lakeville', 'Eden Prairie',\n",
       "       'Duluth', 'Moorhead', 'Lino Lakes', 'St Cloud', 'Edina', 'Andover',\n",
       "       'New Brighton', 'Chisholm', 'Maplewood', 'Minnetonka',\n",
       "       'West St Paul', 'Winona', 'Bloomington', 'Zimmerman', 'Chanhassen',\n",
       "       'Shakopee', 'Little Falls', 'Hastings', 'Roseville',\n",
       "       'Brooklyn Center', 'Elk River', 'Richfield', 'Zumbrota',\n",
       "       'Mendota Heights', 'Red Wing', 'Brooklyn Park', 'Coon Rapids',\n",
       "       'Arden Hills', 'Burnsville', 'Prior Lake', 'Aria', 'Apple Valley',\n",
       "       'White Bear Lake', 'Champlin', 'Crystal', 'Rogers',\n",
       "       'Golden Valley', 'Brainerd', 'Victoria', 'Mahtomedi', 'Litchfield',\n",
       "       'Cambridge', 'Austin', 'Melrose', 'Mound', 'Woodbury', 'Eagan',\n",
       "       'Marshall', 'Saint Paul City Hall', 'Anoka', 'Robbinsdale',\n",
       "       'Mounds View', 'Inver Grove Heights', 'Forest Lake', 'Fridley',\n",
       "       'Cottage Grove', 'Minneapolis Convention Center', 'Stillwater',\n",
       "       'Caledonia', 'Rockford', 'Bayport', 'Farmington'], dtype=object)"
      ]
     },
     "execution_count": 64,
     "metadata": {},
     "output_type": "execute_result"
    }
   ],
   "source": [
    "final_dataframe[\"place\"].unique()"
   ]
  },
  {
   "cell_type": "code",
   "execution_count": 65,
   "metadata": {},
   "outputs": [
    {
     "data": {
      "text/plain": [
       "0.05752336448598132"
      ]
     },
     "execution_count": 65,
     "metadata": {},
     "output_type": "execute_result"
    }
   ],
   "source": [
    "import numpy as np\n",
    "np.mean(final_dataframe.sentiment)"
   ]
  },
  {
   "cell_type": "code",
   "execution_count": 66,
   "metadata": {},
   "outputs": [],
   "source": [
    "final_dataframe.to_csv(\"final_dataframe.csv\", index = False)"
   ]
  },
  {
   "cell_type": "code",
   "execution_count": 67,
   "metadata": {},
   "outputs": [],
   "source": [
    "from google.cloud import storage\n",
    "\n",
    "client = storage.Client()\n",
    "\n",
    "bucket = client.bucket(\"msba-trends\")\n",
    "blob = bucket.blob('final_dataframe.csv')\n",
    "blob.upload_from_filename('final_dataframe.csv')"
   ]
  },
  {
   "cell_type": "code",
   "execution_count": 68,
   "metadata": {},
   "outputs": [
    {
     "data": {
      "text/plain": [
       "topic            SentimentBucket\n",
       "Crime            Negative           65\n",
       "                 Neutral            54\n",
       "                 Positive           41\n",
       "Immigration      Negative           14\n",
       "                 Neutral            20\n",
       "                 Positive           40\n",
       "Medicare         Negative           19\n",
       "                 Neutral            52\n",
       "                 Positive           63\n",
       "Social Security  Negative            9\n",
       "                 Neutral             9\n",
       "                 Positive           21\n",
       "Unemployment     Negative            1\n",
       "                 Neutral            12\n",
       "                 Positive            8\n",
       "dtype: int64"
      ]
     },
     "execution_count": 68,
     "metadata": {},
     "output_type": "execute_result"
    }
   ],
   "source": [
    "final_dataframe.groupby(['topic','SentimentBucket']).size()"
   ]
  },
  {
   "cell_type": "code",
   "execution_count": null,
   "metadata": {},
   "outputs": [],
   "source": []
  },
  {
   "cell_type": "code",
   "execution_count": null,
   "metadata": {},
   "outputs": [],
   "source": []
  }
 ],
 "metadata": {
  "kernelspec": {
   "display_name": "Python 3",
   "language": "python",
   "name": "python3"
  },
  "language_info": {
   "codemirror_mode": {
    "name": "ipython",
    "version": 3
   },
   "file_extension": ".py",
   "mimetype": "text/x-python",
   "name": "python",
   "nbconvert_exporter": "python",
   "pygments_lexer": "ipython3",
   "version": "3.5.3"
  }
 },
 "nbformat": 4,
 "nbformat_minor": 4
}
