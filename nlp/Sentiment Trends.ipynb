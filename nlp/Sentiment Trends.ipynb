{
 "cells": [
  {
   "cell_type": "code",
   "execution_count": 54,
   "metadata": {},
   "outputs": [],
   "source": [
    "import pandas as pd"
   ]
  },
  {
   "cell_type": "code",
   "execution_count": 55,
   "metadata": {},
   "outputs": [],
   "source": [
    "df = pd.read_csv('final_dataframe.csv')"
   ]
  },
  {
   "cell_type": "code",
   "execution_count": 56,
   "metadata": {},
   "outputs": [
    {
     "data": {
      "text/html": [
       "<div>\n",
       "<style scoped>\n",
       "    .dataframe tbody tr th:only-of-type {\n",
       "        vertical-align: middle;\n",
       "    }\n",
       "\n",
       "    .dataframe tbody tr th {\n",
       "        vertical-align: top;\n",
       "    }\n",
       "\n",
       "    .dataframe thead th {\n",
       "        text-align: right;\n",
       "    }\n",
       "</style>\n",
       "<table border=\"1\" class=\"dataframe\">\n",
       "  <thead>\n",
       "    <tr style=\"text-align: right;\">\n",
       "      <th></th>\n",
       "      <th>user</th>\n",
       "      <th>place</th>\n",
       "      <th>place_full_name</th>\n",
       "      <th>follower count</th>\n",
       "      <th>created at</th>\n",
       "      <th>retweets</th>\n",
       "      <th>text</th>\n",
       "      <th>sentiment</th>\n",
       "      <th>topic</th>\n",
       "      <th>SentimentBucket</th>\n",
       "      <th>influencerLevel</th>\n",
       "    </tr>\n",
       "  </thead>\n",
       "  <tbody>\n",
       "    <tr>\n",
       "      <th>0</th>\n",
       "      <td>Jean Mari Burrington</td>\n",
       "      <td>Minnesota</td>\n",
       "      <td>Minnesota, USA</td>\n",
       "      <td>39</td>\n",
       "      <td>2019-12-09 00:46:33</td>\n",
       "      <td>0</td>\n",
       "      <td>@BeltwayPanda @SenKamalaHarris @SpryGuy @FLOTU...</td>\n",
       "      <td>0.20</td>\n",
       "      <td>Immigration</td>\n",
       "      <td>Positive</td>\n",
       "      <td>Not</td>\n",
       "    </tr>\n",
       "    <tr>\n",
       "      <th>1</th>\n",
       "      <td>TMJ-MSP Legal Jobs</td>\n",
       "      <td>Minneapolis</td>\n",
       "      <td>Minneapolis, MN</td>\n",
       "      <td>327</td>\n",
       "      <td>2019-12-08 17:43:09</td>\n",
       "      <td>0</td>\n",
       "      <td>This #Legal job might be a great fit for you. ...</td>\n",
       "      <td>0.48</td>\n",
       "      <td>Immigration</td>\n",
       "      <td>Positive</td>\n",
       "      <td>Not</td>\n",
       "    </tr>\n",
       "    <tr>\n",
       "      <th>2</th>\n",
       "      <td>Stephen Philion</td>\n",
       "      <td>Maple Grove</td>\n",
       "      <td>Maple Grove, MN</td>\n",
       "      <td>145</td>\n",
       "      <td>2019-12-08 16:15:07</td>\n",
       "      <td>0</td>\n",
       "      <td>Mother of Army officer to be deported after re...</td>\n",
       "      <td>0.00</td>\n",
       "      <td>Immigration</td>\n",
       "      <td>Neutral</td>\n",
       "      <td>Not</td>\n",
       "    </tr>\n",
       "    <tr>\n",
       "      <th>3</th>\n",
       "      <td>🇺🇸USMC 0341 MAGA 🇺🇸🎖🇺🇸🇺🇸</td>\n",
       "      <td>Minnesota</td>\n",
       "      <td>Minnesota, USA</td>\n",
       "      <td>70115</td>\n",
       "      <td>2019-12-08 05:53:50</td>\n",
       "      <td>0</td>\n",
       "      <td>@JohnSmi37563557 Exactly.. anothe 9/11 would r...</td>\n",
       "      <td>0.12</td>\n",
       "      <td>Immigration</td>\n",
       "      <td>Positive</td>\n",
       "      <td>Medium</td>\n",
       "    </tr>\n",
       "    <tr>\n",
       "      <th>4</th>\n",
       "      <td>RH Legal Jobs</td>\n",
       "      <td>Minneapolis</td>\n",
       "      <td>Minneapolis, MN</td>\n",
       "      <td>155</td>\n",
       "      <td>2019-12-07 16:31:43</td>\n",
       "      <td>0</td>\n",
       "      <td>This job might be a great fit for you: IMMIGRA...</td>\n",
       "      <td>0.47</td>\n",
       "      <td>Immigration</td>\n",
       "      <td>Positive</td>\n",
       "      <td>Not</td>\n",
       "    </tr>\n",
       "  </tbody>\n",
       "</table>\n",
       "</div>"
      ],
      "text/plain": [
       "                       user        place  place_full_name  follower count  \\\n",
       "0      Jean Mari Burrington    Minnesota   Minnesota, USA              39   \n",
       "1        TMJ-MSP Legal Jobs  Minneapolis  Minneapolis, MN             327   \n",
       "2           Stephen Philion  Maple Grove  Maple Grove, MN             145   \n",
       "3  🇺🇸USMC 0341 MAGA 🇺🇸🎖🇺🇸🇺🇸    Minnesota   Minnesota, USA           70115   \n",
       "4             RH Legal Jobs  Minneapolis  Minneapolis, MN             155   \n",
       "\n",
       "            created at  retweets  \\\n",
       "0  2019-12-09 00:46:33         0   \n",
       "1  2019-12-08 17:43:09         0   \n",
       "2  2019-12-08 16:15:07         0   \n",
       "3  2019-12-08 05:53:50         0   \n",
       "4  2019-12-07 16:31:43         0   \n",
       "\n",
       "                                                text  sentiment        topic  \\\n",
       "0  @BeltwayPanda @SenKamalaHarris @SpryGuy @FLOTU...       0.20  Immigration   \n",
       "1  This #Legal job might be a great fit for you. ...       0.48  Immigration   \n",
       "2  Mother of Army officer to be deported after re...       0.00  Immigration   \n",
       "3  @JohnSmi37563557 Exactly.. anothe 9/11 would r...       0.12  Immigration   \n",
       "4  This job might be a great fit for you: IMMIGRA...       0.47  Immigration   \n",
       "\n",
       "  SentimentBucket influencerLevel  \n",
       "0        Positive             Not  \n",
       "1        Positive             Not  \n",
       "2         Neutral             Not  \n",
       "3        Positive          Medium  \n",
       "4        Positive             Not  "
      ]
     },
     "execution_count": 56,
     "metadata": {},
     "output_type": "execute_result"
    }
   ],
   "source": [
    "df.head(5)"
   ]
  },
  {
   "cell_type": "code",
   "execution_count": 57,
   "metadata": {},
   "outputs": [],
   "source": [
    "df_out = df[['place','created at','sentiment','topic','SentimentBucket','influencerLevel','follower count']]"
   ]
  },
  {
   "cell_type": "code",
   "execution_count": 58,
   "metadata": {},
   "outputs": [
    {
     "data": {
      "text/plain": [
       "dtype('O')"
      ]
     },
     "execution_count": 58,
     "metadata": {},
     "output_type": "execute_result"
    }
   ],
   "source": [
    "df['created at'].dtype"
   ]
  },
  {
   "cell_type": "code",
   "execution_count": 59,
   "metadata": {},
   "outputs": [
    {
     "name": "stderr",
     "output_type": "stream",
     "text": [
      "/usr/local/lib/python3.5/dist-packages/ipykernel_launcher.py:1: SettingWithCopyWarning: \n",
      "A value is trying to be set on a copy of a slice from a DataFrame.\n",
      "Try using .loc[row_indexer,col_indexer] = value instead\n",
      "\n",
      "See the caveats in the documentation: http://pandas.pydata.org/pandas-docs/stable/user_guide/indexing.html#returning-a-view-versus-a-copy\n",
      "  \"\"\"Entry point for launching an IPython kernel.\n"
     ]
    }
   ],
   "source": [
    "df_out['date'] = pd.to_datetime(df['created at'])"
   ]
  },
  {
   "cell_type": "code",
   "execution_count": 60,
   "metadata": {},
   "outputs": [
    {
     "data": {
      "text/plain": [
       "dtype('<M8[ns]')"
      ]
     },
     "execution_count": 60,
     "metadata": {},
     "output_type": "execute_result"
    }
   ],
   "source": [
    "df_out['date'].dtype"
   ]
  },
  {
   "cell_type": "code",
   "execution_count": 61,
   "metadata": {},
   "outputs": [
    {
     "name": "stderr",
     "output_type": "stream",
     "text": [
      "/usr/local/lib/python3.5/dist-packages/ipykernel_launcher.py:9: SettingWithCopyWarning: \n",
      "A value is trying to be set on a copy of a slice from a DataFrame.\n",
      "Try using .loc[row_indexer,col_indexer] = value instead\n",
      "\n",
      "See the caveats in the documentation: http://pandas.pydata.org/pandas-docs/stable/user_guide/indexing.html#returning-a-view-versus-a-copy\n",
      "  if __name__ == '__main__':\n"
     ]
    }
   ],
   "source": [
    "def influencer_type(value):\n",
    "    type_val = \"\"\n",
    "    if value == \"Not\":\n",
    "        type_val = \"Non-influencer\"\n",
    "    else:\n",
    "        type_val = \"Influencer\"\n",
    "    return type_val\n",
    "\n",
    "df_out['Influencer Type'] = df_out[\"influencerLevel\"].apply(influencer_type)"
   ]
  },
  {
   "cell_type": "code",
   "execution_count": 62,
   "metadata": {},
   "outputs": [],
   "source": [
    "major_city = df_out['place'].replace(['Shoreview','Golden Valley', 'Melrose', 'St Paul', 'Zimmerman','Brooklyn Park',\n",
    "                                  'Edina', 'Maple Grove', 'Chanhassen', 'Roseville', 'New Brighton', 'Burnsville',\n",
    "                                  'Hutchinson', 'Monticello', 'Hopkins', 'Plymouth', 'Lakeville', 'Eden Prairie', \n",
    "                                  'Lino Lakes', 'St Cloud', 'Andover', 'Maplewood', 'Minnetonka', 'West St Paul', \n",
    "                                  'Bloomington', 'Shakopee', 'Hastings', 'Brooklyn Center', 'Elk River', 'Richfield',\n",
    "                                  'Mendota Heights', 'Coon Rapids', 'Arden Hills', 'Burnsville', 'Prior Lake',\n",
    "                                  'Aria', 'Apple Valley', 'White Bear Lake', 'Champlin', 'Crystal', 'Rogers','Golden Valley',\n",
    "                                  'Victoria', 'Mahtomedi', 'Woodbury', 'Eagan', 'Saint Paul City Hall', 'Anoka',\n",
    "                                  'Robbinsdale', 'Mounds View', 'Inver Grove Heights', 'Forest Lake', 'Fridley',\n",
    "                                  'Cottage Grove', 'Minneapolis Convention Center', 'Stillwater', 'Rockford',\n",
    "                                  'Bayport', 'Farmington'], 'Minneapolis')\n",
    "\n",
    "major_city = major_city.replace(['Moorhead', 'Brainerd', 'Litchfield', 'Mound'],'Fargo')\n",
    "major_city = major_city.replace(['Chisholm', 'Little Falls', 'Cambridge'], 'Duluth')\n",
    "major_city = major_city.replace(['Winona', 'Caledonia'], 'La Crosse')\n",
    "major_city = major_city.replace(['Zumbrota', 'Red Wing', 'Austin'], 'Rochester')\n",
    "major_city = major_city.replace('Marshall', 'Mankato')"
   ]
  },
  {
   "cell_type": "code",
   "execution_count": 63,
   "metadata": {},
   "outputs": [
    {
     "name": "stderr",
     "output_type": "stream",
     "text": [
      "/usr/local/lib/python3.5/dist-packages/ipykernel_launcher.py:1: SettingWithCopyWarning: \n",
      "A value is trying to be set on a copy of a slice from a DataFrame.\n",
      "Try using .loc[row_indexer,col_indexer] = value instead\n",
      "\n",
      "See the caveats in the documentation: http://pandas.pydata.org/pandas-docs/stable/user_guide/indexing.html#returning-a-view-versus-a-copy\n",
      "  \"\"\"Entry point for launching an IPython kernel.\n"
     ]
    }
   ],
   "source": [
    "df_out['majorCity'] = major_city\n",
    "df_out = df_out[df_out['majorCity'] != 'Minnesota']"
   ]
  },
  {
   "cell_type": "code",
   "execution_count": 64,
   "metadata": {},
   "outputs": [
    {
     "data": {
      "text/plain": [
       "array(['Minneapolis', 'Duluth', 'Fargo', 'La Crosse', 'Rochester',\n",
       "       'Mankato'], dtype=object)"
      ]
     },
     "execution_count": 64,
     "metadata": {},
     "output_type": "execute_result"
    }
   ],
   "source": [
    "df_out['majorCity'].unique()"
   ]
  },
  {
   "cell_type": "code",
   "execution_count": 65,
   "metadata": {},
   "outputs": [
    {
     "data": {
      "text/html": [
       "<div>\n",
       "<style scoped>\n",
       "    .dataframe tbody tr th:only-of-type {\n",
       "        vertical-align: middle;\n",
       "    }\n",
       "\n",
       "    .dataframe tbody tr th {\n",
       "        vertical-align: top;\n",
       "    }\n",
       "\n",
       "    .dataframe thead th {\n",
       "        text-align: right;\n",
       "    }\n",
       "</style>\n",
       "<table border=\"1\" class=\"dataframe\">\n",
       "  <thead>\n",
       "    <tr style=\"text-align: right;\">\n",
       "      <th></th>\n",
       "      <th>place</th>\n",
       "      <th>created at</th>\n",
       "      <th>sentiment</th>\n",
       "      <th>topic</th>\n",
       "      <th>SentimentBucket</th>\n",
       "      <th>influencerLevel</th>\n",
       "      <th>follower count</th>\n",
       "      <th>date</th>\n",
       "      <th>Influencer Type</th>\n",
       "      <th>majorCity</th>\n",
       "    </tr>\n",
       "  </thead>\n",
       "  <tbody>\n",
       "    <tr>\n",
       "      <th>1</th>\n",
       "      <td>Minneapolis</td>\n",
       "      <td>2019-12-08 17:43:09</td>\n",
       "      <td>0.48</td>\n",
       "      <td>Immigration</td>\n",
       "      <td>Positive</td>\n",
       "      <td>Not</td>\n",
       "      <td>327</td>\n",
       "      <td>2019-12-08 17:43:09</td>\n",
       "      <td>Non-influencer</td>\n",
       "      <td>Minneapolis</td>\n",
       "    </tr>\n",
       "    <tr>\n",
       "      <th>2</th>\n",
       "      <td>Maple Grove</td>\n",
       "      <td>2019-12-08 16:15:07</td>\n",
       "      <td>0.00</td>\n",
       "      <td>Immigration</td>\n",
       "      <td>Neutral</td>\n",
       "      <td>Not</td>\n",
       "      <td>145</td>\n",
       "      <td>2019-12-08 16:15:07</td>\n",
       "      <td>Non-influencer</td>\n",
       "      <td>Minneapolis</td>\n",
       "    </tr>\n",
       "    <tr>\n",
       "      <th>4</th>\n",
       "      <td>Minneapolis</td>\n",
       "      <td>2019-12-07 16:31:43</td>\n",
       "      <td>0.47</td>\n",
       "      <td>Immigration</td>\n",
       "      <td>Positive</td>\n",
       "      <td>Not</td>\n",
       "      <td>155</td>\n",
       "      <td>2019-12-07 16:31:43</td>\n",
       "      <td>Non-influencer</td>\n",
       "      <td>Minneapolis</td>\n",
       "    </tr>\n",
       "    <tr>\n",
       "      <th>5</th>\n",
       "      <td>Minneapolis</td>\n",
       "      <td>2019-12-06 17:04:41</td>\n",
       "      <td>0.00</td>\n",
       "      <td>Immigration</td>\n",
       "      <td>Neutral</td>\n",
       "      <td>Not</td>\n",
       "      <td>745</td>\n",
       "      <td>2019-12-06 17:04:41</td>\n",
       "      <td>Non-influencer</td>\n",
       "      <td>Minneapolis</td>\n",
       "    </tr>\n",
       "    <tr>\n",
       "      <th>6</th>\n",
       "      <td>St Paul</td>\n",
       "      <td>2019-12-06 14:47:38</td>\n",
       "      <td>0.25</td>\n",
       "      <td>Immigration</td>\n",
       "      <td>Positive</td>\n",
       "      <td>Not</td>\n",
       "      <td>1081</td>\n",
       "      <td>2019-12-06 14:47:38</td>\n",
       "      <td>Non-influencer</td>\n",
       "      <td>Minneapolis</td>\n",
       "    </tr>\n",
       "    <tr>\n",
       "      <th>...</th>\n",
       "      <td>...</td>\n",
       "      <td>...</td>\n",
       "      <td>...</td>\n",
       "      <td>...</td>\n",
       "      <td>...</td>\n",
       "      <td>...</td>\n",
       "      <td>...</td>\n",
       "      <td>...</td>\n",
       "      <td>...</td>\n",
       "      <td>...</td>\n",
       "    </tr>\n",
       "    <tr>\n",
       "      <th>421</th>\n",
       "      <td>Lino Lakes</td>\n",
       "      <td>2019-12-04 17:19:59</td>\n",
       "      <td>0.00</td>\n",
       "      <td>Crime</td>\n",
       "      <td>Neutral</td>\n",
       "      <td>Local</td>\n",
       "      <td>7086</td>\n",
       "      <td>2019-12-04 17:19:59</td>\n",
       "      <td>Influencer</td>\n",
       "      <td>Minneapolis</td>\n",
       "    </tr>\n",
       "    <tr>\n",
       "      <th>422</th>\n",
       "      <td>St Paul</td>\n",
       "      <td>2019-12-06 04:30:34</td>\n",
       "      <td>-0.18</td>\n",
       "      <td>Crime</td>\n",
       "      <td>Negative</td>\n",
       "      <td>Not</td>\n",
       "      <td>556</td>\n",
       "      <td>2019-12-06 04:30:34</td>\n",
       "      <td>Non-influencer</td>\n",
       "      <td>Minneapolis</td>\n",
       "    </tr>\n",
       "    <tr>\n",
       "      <th>424</th>\n",
       "      <td>Minneapolis Convention Center</td>\n",
       "      <td>2019-12-05 14:44:54</td>\n",
       "      <td>0.22</td>\n",
       "      <td>Crime</td>\n",
       "      <td>Positive</td>\n",
       "      <td>Not</td>\n",
       "      <td>1832</td>\n",
       "      <td>2019-12-05 14:44:54</td>\n",
       "      <td>Non-influencer</td>\n",
       "      <td>Minneapolis</td>\n",
       "    </tr>\n",
       "    <tr>\n",
       "      <th>425</th>\n",
       "      <td>St Paul</td>\n",
       "      <td>2019-12-03 20:47:48</td>\n",
       "      <td>-0.40</td>\n",
       "      <td>Crime</td>\n",
       "      <td>Negative</td>\n",
       "      <td>Not</td>\n",
       "      <td>484</td>\n",
       "      <td>2019-12-03 20:47:48</td>\n",
       "      <td>Non-influencer</td>\n",
       "      <td>Minneapolis</td>\n",
       "    </tr>\n",
       "    <tr>\n",
       "      <th>427</th>\n",
       "      <td>Minneapolis</td>\n",
       "      <td>2019-11-30 14:52:42</td>\n",
       "      <td>-0.20</td>\n",
       "      <td>Crime</td>\n",
       "      <td>Negative</td>\n",
       "      <td>Not</td>\n",
       "      <td>111</td>\n",
       "      <td>2019-11-30 14:52:42</td>\n",
       "      <td>Non-influencer</td>\n",
       "      <td>Minneapolis</td>\n",
       "    </tr>\n",
       "  </tbody>\n",
       "</table>\n",
       "<p>350 rows × 10 columns</p>\n",
       "</div>"
      ],
      "text/plain": [
       "                             place           created at  sentiment  \\\n",
       "1                      Minneapolis  2019-12-08 17:43:09       0.48   \n",
       "2                      Maple Grove  2019-12-08 16:15:07       0.00   \n",
       "4                      Minneapolis  2019-12-07 16:31:43       0.47   \n",
       "5                      Minneapolis  2019-12-06 17:04:41       0.00   \n",
       "6                          St Paul  2019-12-06 14:47:38       0.25   \n",
       "..                             ...                  ...        ...   \n",
       "421                     Lino Lakes  2019-12-04 17:19:59       0.00   \n",
       "422                        St Paul  2019-12-06 04:30:34      -0.18   \n",
       "424  Minneapolis Convention Center  2019-12-05 14:44:54       0.22   \n",
       "425                        St Paul  2019-12-03 20:47:48      -0.40   \n",
       "427                    Minneapolis  2019-11-30 14:52:42      -0.20   \n",
       "\n",
       "           topic SentimentBucket influencerLevel  follower count  \\\n",
       "1    Immigration        Positive             Not             327   \n",
       "2    Immigration         Neutral             Not             145   \n",
       "4    Immigration        Positive             Not             155   \n",
       "5    Immigration         Neutral             Not             745   \n",
       "6    Immigration        Positive             Not            1081   \n",
       "..           ...             ...             ...             ...   \n",
       "421        Crime         Neutral           Local            7086   \n",
       "422        Crime        Negative             Not             556   \n",
       "424        Crime        Positive             Not            1832   \n",
       "425        Crime        Negative             Not             484   \n",
       "427        Crime        Negative             Not             111   \n",
       "\n",
       "                   date Influencer Type    majorCity  \n",
       "1   2019-12-08 17:43:09  Non-influencer  Minneapolis  \n",
       "2   2019-12-08 16:15:07  Non-influencer  Minneapolis  \n",
       "4   2019-12-07 16:31:43  Non-influencer  Minneapolis  \n",
       "5   2019-12-06 17:04:41  Non-influencer  Minneapolis  \n",
       "6   2019-12-06 14:47:38  Non-influencer  Minneapolis  \n",
       "..                  ...             ...          ...  \n",
       "421 2019-12-04 17:19:59      Influencer  Minneapolis  \n",
       "422 2019-12-06 04:30:34  Non-influencer  Minneapolis  \n",
       "424 2019-12-05 14:44:54  Non-influencer  Minneapolis  \n",
       "425 2019-12-03 20:47:48  Non-influencer  Minneapolis  \n",
       "427 2019-11-30 14:52:42  Non-influencer  Minneapolis  \n",
       "\n",
       "[350 rows x 10 columns]"
      ]
     },
     "execution_count": 65,
     "metadata": {},
     "output_type": "execute_result"
    }
   ],
   "source": [
    "df_out"
   ]
  },
  {
   "cell_type": "code",
   "execution_count": 66,
   "metadata": {},
   "outputs": [],
   "source": [
    "df_out.to_csv(\"senti_trends_influence.csv\", index = False)"
   ]
  },
  {
   "cell_type": "code",
   "execution_count": 67,
   "metadata": {},
   "outputs": [],
   "source": [
    "from google.cloud import storage\n",
    "\n",
    "client = storage.Client()\n",
    "\n",
    "bucket = client.bucket(\"msba-trends\")\n",
    "blob = bucket.blob('senti_trends_influence.csv')\n",
    "blob.upload_from_filename('senti_trends_influence.csv')"
   ]
  },
  {
   "cell_type": "code",
   "execution_count": null,
   "metadata": {},
   "outputs": [],
   "source": []
  }
 ],
 "metadata": {
  "kernelspec": {
   "display_name": "Python 3",
   "language": "python",
   "name": "python3"
  },
  "language_info": {
   "codemirror_mode": {
    "name": "ipython",
    "version": 3
   },
   "file_extension": ".py",
   "mimetype": "text/x-python",
   "name": "python",
   "nbconvert_exporter": "python",
   "pygments_lexer": "ipython3",
   "version": "3.5.3"
  }
 },
 "nbformat": 4,
 "nbformat_minor": 4
}
