{
  "nbformat": 4,
  "nbformat_minor": 0,
  "metadata": {
    "colab": {
      "name": "modeling_&_prep.ipynb",
      "provenance": [],
      "collapsed_sections": []
    },
    "kernelspec": {
      "name": "python3",
      "display_name": "Python 3"
    }
  },
  "cells": [
    {
      "cell_type": "code",
      "metadata": {
        "id": "GaOMHBiHPQYL",
        "colab_type": "code",
        "colab": {}
      },
      "source": [
        "import pandas as pd\n",
        "import numpy as np"
      ],
      "execution_count": 0,
      "outputs": []
    },
    {
      "cell_type": "code",
      "metadata": {
        "id": "5v27x0q9VzrO",
        "colab_type": "code",
        "colab": {}
      },
      "source": [
        "df = pd.read_csv('master_final.csv')"
      ],
      "execution_count": 0,
      "outputs": []
    },
    {
      "cell_type": "code",
      "metadata": {
        "id": "VJX_1dvpV23t",
        "colab_type": "code",
        "colab": {}
      },
      "source": [
        "del df['hpg_store_id'] \n",
        "del df['earlist_open_date']\n",
        "del df['dayofyear']\n",
        "del df['day_of_week']\n",
        "del df['day']\n",
        "del df['latitude']\n",
        "del df['longitude']"
      ],
      "execution_count": 0,
      "outputs": []
    },
    {
      "cell_type": "code",
      "metadata": {
        "id": "K0wAqCfWV3j1",
        "colab_type": "code",
        "colab": {}
      },
      "source": [
        "df = df.fillna(0)"
      ],
      "execution_count": 0,
      "outputs": []
    },
    {
      "cell_type": "code",
      "metadata": {
        "id": "BQOP8_DqV7SX",
        "colab_type": "code",
        "colab": {}
      },
      "source": [
        "df1 = pd.get_dummies(df, columns = ['air_genre_name', 'air_area_name', \n",
        "                                    'month','year', 'dayofweek', 'week_of_month', 'air_store_id'])"
      ],
      "execution_count": 0,
      "outputs": []
    },
    {
      "cell_type": "code",
      "metadata": {
        "id": "Fito8PwlV-Q5",
        "colab_type": "code",
        "colab": {}
      },
      "source": [
        "df2 = df1[pd.to_datetime(df1['calendar_date']) < pd.to_datetime('2017-04-23')]"
      ],
      "execution_count": 0,
      "outputs": []
    },
    {
      "cell_type": "code",
      "metadata": {
        "id": "P1L3HYa-WAhg",
        "colab_type": "code",
        "colab": {}
      },
      "source": [
        "test = df2[pd.to_datetime(df2['calendar_date']) >= pd.to_datetime('2017-03-15')]\n",
        "train = df2[pd.to_datetime(df2['calendar_date']) < pd.to_datetime('2017-03-15')]"
      ],
      "execution_count": 0,
      "outputs": []
    },
    {
      "cell_type": "code",
      "metadata": {
        "id": "sXIZ9BLhWDK0",
        "colab_type": "code",
        "colab": {}
      },
      "source": [
        "del test['calendar_date']\n",
        "del train['calendar_date']"
      ],
      "execution_count": 0,
      "outputs": []
    },
    {
      "cell_type": "code",
      "metadata": {
        "id": "8MiDmoQVWFz8",
        "colab_type": "code",
        "colab": {}
      },
      "source": [
        "test = test.astype('float64')\n",
        "train = train.astype('float64')"
      ],
      "execution_count": 0,
      "outputs": []
    },
    {
      "cell_type": "code",
      "metadata": {
        "id": "dyn5_k5APc4J",
        "colab_type": "code",
        "colab": {}
      },
      "source": [
        "y_test = test['visitors']\n",
        "del test['visitors']\n",
        "y_train = train['visitors']\n",
        "del train['visitors']"
      ],
      "execution_count": 0,
      "outputs": []
    },
    {
      "cell_type": "code",
      "metadata": {
        "id": "Sscl8KgqPc0A",
        "colab_type": "code",
        "colab": {}
      },
      "source": [
        "X_test = test\n",
        "X_train = train"
      ],
      "execution_count": 0,
      "outputs": []
    },
    {
      "cell_type": "code",
      "metadata": {
        "id": "itKoMRVOPcva",
        "colab_type": "code",
        "colab": {}
      },
      "source": [
        "new_x_test = X_test[X_test['closed_flag'] != 2]"
      ],
      "execution_count": 0,
      "outputs": []
    },
    {
      "cell_type": "code",
      "metadata": {
        "id": "vYc1OfbZPcpn",
        "colab_type": "code",
        "colab": {}
      },
      "source": [
        "new_x_test.head()"
      ],
      "execution_count": 0,
      "outputs": []
    },
    {
      "cell_type": "code",
      "metadata": {
        "id": "WUhq3hSBPcnL",
        "colab_type": "code",
        "colab": {}
      },
      "source": [
        "y_test.head()"
      ],
      "execution_count": 0,
      "outputs": []
    },
    {
      "cell_type": "code",
      "metadata": {
        "id": "D46cRqbfPclE",
        "colab_type": "code",
        "colab": {}
      },
      "source": [
        "new_y_test = y_test.loc[np.array(new_x_test.index)]\n",
        "new_y_test.head()"
      ],
      "execution_count": 0,
      "outputs": []
    },
    {
      "cell_type": "code",
      "metadata": {
        "id": "iQDtEXJcPcjK",
        "colab_type": "code",
        "colab": {}
      },
      "source": [
        "new_y_test.describe()"
      ],
      "execution_count": 0,
      "outputs": []
    },
    {
      "cell_type": "code",
      "metadata": {
        "id": "5tpmtBXyPcfc",
        "colab_type": "code",
        "colab": {}
      },
      "source": [
        "from sklearn.preprocessing import StandardScaler\n",
        "from sklearn import linear_model\n",
        "from sklearn import ensemble\n",
        "from sklearn import neighbors\n",
        "from sklearn.model_selection import GridSearchCV\n",
        "from sklearn.metrics import r2_score\n",
        "from sklearn.metrics import mean_squared_error\n",
        "from sklearn.metrics import mean_squared_log_error"
      ],
      "execution_count": 0,
      "outputs": []
    },
    {
      "cell_type": "code",
      "metadata": {
        "id": "UAIAdGQGPcSQ",
        "colab_type": "code",
        "colab": {}
      },
      "source": [
        "lin_reg_pred = linear_model.LinearRegression().fit(X_train, y_train).predict(new_x_test)"
      ],
      "execution_count": 0,
      "outputs": []
    },
    {
      "cell_type": "code",
      "metadata": {
        "id": "xSS-l0ZuPcOG",
        "colab_type": "code",
        "colab": {}
      },
      "source": [
        "i = 0\n",
        "for prediction in lin_reg_pred:\n",
        "  if prediction < 0:\n",
        "    lin_reg_pred[i] = 0\n",
        "\n",
        "  i += 1"
      ],
      "execution_count": 0,
      "outputs": []
    },
    {
      "cell_type": "code",
      "metadata": {
        "id": "hBv4pDuqQTuR",
        "colab_type": "code",
        "colab": {}
      },
      "source": [
        "print('Linear Regression')\n",
        "print('Mean Squared Error')\n",
        "print(mean_squared_error(new_y_test, lin_reg_pred))\n",
        "print('Root Mean Squared Log Error')\n",
        "print(np.sqrt(mean_squared_log_error(new_y_test, lin_reg_pred)))\n",
        "print('r^2')\n",
        "print(r2_score(new_y_test, lin_reg_pred))"
      ],
      "execution_count": 0,
      "outputs": []
    },
    {
      "cell_type": "code",
      "metadata": {
        "id": "y0MZZFLZTrD7",
        "colab_type": "code",
        "colab": {}
      },
      "source": [
        "gbr_hps = {'n_estimators': [100, 200], 'max_depth': [3, 5], 'min_samples_split': [3, 5],\n",
        "          'learning_rate': [.05, 0.1, 0.15], 'loss': ['ls']}\n",
        "\n",
        "gbr = ensemble.GradientBoostingRegressor()\n",
        "gbr_grid = GridSearchCV(gbr, gbr_hps, cv = 5, scoring = 'neg_mean_squared_error')"
      ],
      "execution_count": 0,
      "outputs": []
    },
    {
      "cell_type": "code",
      "metadata": {
        "id": "V_vcOAYGQTox",
        "colab_type": "code",
        "colab": {}
      },
      "source": [
        "gbr_pred = gbr_grid.fit(X_train, y_train).predict(new_x_test)"
      ],
      "execution_count": 0,
      "outputs": []
    },
    {
      "cell_type": "code",
      "metadata": {
        "id": "mQ5-Eo1eQTly",
        "colab_type": "code",
        "colab": {}
      },
      "source": [
        "i = 0\n",
        "for prediction in gbr_pred:\n",
        "  if prediction < 0:\n",
        "    gbr_y_pred[i] = 0\n",
        "  \n",
        "  i += 1"
      ],
      "execution_count": 0,
      "outputs": []
    },
    {
      "cell_type": "code",
      "metadata": {
        "id": "-0KnPtujQTah",
        "colab_type": "code",
        "colab": {}
      },
      "source": [
        "print('Gradient Boosting Regression')\n",
        "print('Mean Squared Error')\n",
        "print(mean_squared_error(new_y_test, gbr_pred))\n",
        "print('Root Mean Squared Log Error')\n",
        "print(np.sqrt(mean_squared_log_error(new_y_test, gbr_pred)))\n",
        "print('r^2')\n",
        "print(r2_score(y_test, gbr_pred))\n",
        "print('Best Params:')\n",
        "print (gbr_grid.best_params_)"
      ],
      "execution_count": 0,
      "outputs": []
    },
    {
      "cell_type": "code",
      "metadata": {
        "id": "dhNMp-adQTVx",
        "colab_type": "code",
        "colab": {}
      },
      "source": [
        "sc = StandardScaler()\n",
        "X_train_norm = sc.fit_transform(X_train)\n",
        "new_x_test_norm = sc.fit_transform(new_x_test)"
      ],
      "execution_count": 0,
      "outputs": []
    },
    {
      "cell_type": "code",
      "metadata": {
        "id": "wOUV7zZFQTQr",
        "colab_type": "code",
        "colab": {}
      },
      "source": [
        "ridge_reg = linear_model.RidgeCV(alpha = [0.001, 0.01, 0.1, 1], cv = 5)"
      ],
      "execution_count": 0,
      "outputs": []
    },
    {
      "cell_type": "code",
      "metadata": {
        "id": "JNgDftuPQgtL",
        "colab_type": "code",
        "colab": {}
      },
      "source": [
        "ridge_pred = ridge_reg.fit(X_train_norm, y_train).predict(new_x_test_norm)"
      ],
      "execution_count": 0,
      "outputs": []
    },
    {
      "cell_type": "code",
      "metadata": {
        "id": "5uTnyqu4Qgq2",
        "colab_type": "code",
        "colab": {}
      },
      "source": [
        "i = 0\n",
        "for prediction in ridge_pred:\n",
        "  if prediction < 0:\n",
        "    ridge_pred[i] = 0\n",
        "  \n",
        "  i += 1"
      ],
      "execution_count": 0,
      "outputs": []
    },
    {
      "cell_type": "code",
      "metadata": {
        "id": "TS33YYy4Qglw",
        "colab_type": "code",
        "colab": {}
      },
      "source": [
        "print('Ridge Regression')\n",
        "print('Mean Squared Error')\n",
        "print(mean_squared_error(new_y_test, ridge_pred))\n",
        "print('Root Mean Squared Log Error')\n",
        "print(np.sqrt(mean_squared_log_error(new_y_test, ridge_pred)))\n",
        "print('r^2')\n",
        "print(r2_score(new_y_test, ridge_pred))"
      ],
      "execution_count": 0,
      "outputs": []
    },
    {
      "cell_type": "code",
      "metadata": {
        "id": "G97-1ES3S1vq",
        "colab_type": "code",
        "colab": {}
      },
      "source": [
        "lasso_reg = linear_model.LassoCV(alpha = [0.001, 0.01, 0.1, 1], cv = 5)"
      ],
      "execution_count": 0,
      "outputs": []
    },
    {
      "cell_type": "code",
      "metadata": {
        "id": "Cuq2gNfjS0qn",
        "colab_type": "code",
        "colab": {}
      },
      "source": [
        "lasso_pred = lasso_reg.fit(X_train_norm, y_train).predict(new_x_test_norm)"
      ],
      "execution_count": 0,
      "outputs": []
    },
    {
      "cell_type": "code",
      "metadata": {
        "id": "rMjhHSPhS0hu",
        "colab_type": "code",
        "colab": {}
      },
      "source": [
        "i = 0\n",
        "for prediction in ridge_pred:\n",
        "  if prediction < 0:\n",
        "    ridge_pred[i] = 0\n",
        "  \n",
        "  i += 1"
      ],
      "execution_count": 0,
      "outputs": []
    },
    {
      "cell_type": "code",
      "metadata": {
        "id": "r331BSnETBiG",
        "colab_type": "code",
        "colab": {}
      },
      "source": [
        "print('Lasso Regression')\n",
        "print('Mean Squared Error')\n",
        "print(mean_squared_error(new_y_test, lasso_pred))\n",
        "print('Root Mean Squared Log Error')\n",
        "print(np.sqrt(mean_squared_log_error(new_y_test, lasso_pred)))\n",
        "print('r^2')\n",
        "print(r2_score(new_y_test, lasso_pred))"
      ],
      "execution_count": 0,
      "outputs": []
    },
    {
      "cell_type": "code",
      "metadata": {
        "id": "yqHuU3s8Qgcx",
        "colab_type": "code",
        "colab": {}
      },
      "source": [
        "k_range = list(range(1, 25))\n",
        "weight_options = [\"uniform\", \"distance\"]\n",
        "param_grid = dict(n_neighbors = k_range, weights = weight_options)\n",
        "knnR = neighbors.KNeighborsRegressor()"
      ],
      "execution_count": 0,
      "outputs": []
    },
    {
      "cell_type": "code",
      "metadata": {
        "id": "NqD3urelTQkb",
        "colab_type": "code",
        "colab": {}
      },
      "source": [
        "knn_grid = GridSearchCV(knnR, param_grid, cv = 5, scoring = 'neg_mean_squared_error')"
      ],
      "execution_count": 0,
      "outputs": []
    },
    {
      "cell_type": "code",
      "metadata": {
        "id": "1NSuDj_qQgZG",
        "colab_type": "code",
        "colab": {}
      },
      "source": [
        "knn_pred = knn_grid.fit(X_train_norm, y_train).predict(new_x_test_norm)"
      ],
      "execution_count": 0,
      "outputs": []
    },
    {
      "cell_type": "code",
      "metadata": {
        "id": "Ni9p2OzAQqi3",
        "colab_type": "code",
        "colab": {}
      },
      "source": [
        "i = 0\n",
        "for prediction in knn_pred:\n",
        "  if prediction < 0:\n",
        "    knn_pred[i] = 0\n",
        "  \n",
        "  i += 1"
      ],
      "execution_count": 0,
      "outputs": []
    },
    {
      "cell_type": "code",
      "metadata": {
        "id": "XpxaI-vdQqZ_",
        "colab_type": "code",
        "colab": {}
      },
      "source": [
        "print('k-NN Regression')\n",
        "print('Mean Squared Error')\n",
        "print(mean_squared_error(new_y_test, knn_pred))\n",
        "print('Root Mean Squared Log Error')\n",
        "print(np.sqrt(mean_squared_log_error(new_y_test, knn_pred)))\n",
        "print('r^2')\n",
        "print(r2_score(new_y_test, knn_pred))\n",
        "print('Best Params:')\n",
        "print (knn_grid.best_params_)"
      ],
      "execution_count": 0,
      "outputs": []
    }
  ]
}